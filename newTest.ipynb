{
 "cells": [
  {
   "cell_type": "code",
   "execution_count": 41,
   "metadata": {},
   "outputs": [],
   "source": [
    "import pandas as pd\n",
    "# import nltk\n",
    "import matplotlib.pyplot as plt\n",
    "import random"
   ]
  },
  {
   "cell_type": "code",
   "execution_count": 42,
   "metadata": {},
   "outputs": [
    {
     "data": {
      "text/html": [
       "<div>\n",
       "<style scoped>\n",
       "    .dataframe tbody tr th:only-of-type {\n",
       "        vertical-align: middle;\n",
       "    }\n",
       "\n",
       "    .dataframe tbody tr th {\n",
       "        vertical-align: top;\n",
       "    }\n",
       "\n",
       "    .dataframe thead th {\n",
       "        text-align: right;\n",
       "    }\n",
       "</style>\n",
       "<table border=\"1\" class=\"dataframe\">\n",
       "  <thead>\n",
       "    <tr style=\"text-align: right;\">\n",
       "      <th></th>\n",
       "      <th>title</th>\n",
       "      <th>Target</th>\n",
       "    </tr>\n",
       "  </thead>\n",
       "  <tbody>\n",
       "    <tr>\n",
       "      <th>0</th>\n",
       "      <td>Trump Will ANNHILILATE The Working Class He’s...</td>\n",
       "      <td>Fake</td>\n",
       "    </tr>\n",
       "    <tr>\n",
       "      <th>1</th>\n",
       "      <td>Yemen Houthis say have shot down U.S. surveill...</td>\n",
       "      <td>True</td>\n",
       "    </tr>\n",
       "    <tr>\n",
       "      <th>2</th>\n",
       "      <td>BREAKING NEWS: TRUMP ADMIN ANNOUNCES “MASSIVE ...</td>\n",
       "      <td>Fake</td>\n",
       "    </tr>\n",
       "    <tr>\n",
       "      <th>3</th>\n",
       "      <td>U.S. Commerce Secretary wants NAFTA autos cont...</td>\n",
       "      <td>True</td>\n",
       "    </tr>\n",
       "    <tr>\n",
       "      <th>4</th>\n",
       "      <td>U.S. warns of repercussions for Pakistan over ...</td>\n",
       "      <td>True</td>\n",
       "    </tr>\n",
       "    <tr>\n",
       "      <th>...</th>\n",
       "      <td>...</td>\n",
       "      <td>...</td>\n",
       "    </tr>\n",
       "    <tr>\n",
       "      <th>44893</th>\n",
       "      <td>Germany’s Angela Merkel Makes Incredibly Naive...</td>\n",
       "      <td>Fake</td>\n",
       "    </tr>\n",
       "    <tr>\n",
       "      <th>44894</th>\n",
       "      <td>MEDIA IGNORES! HOUSE DEM IT SUSPECTS Wanted Un...</td>\n",
       "      <td>Fake</td>\n",
       "    </tr>\n",
       "    <tr>\n",
       "      <th>44895</th>\n",
       "      <td>Obama administration completes rule to curb me...</td>\n",
       "      <td>True</td>\n",
       "    </tr>\n",
       "    <tr>\n",
       "      <th>44896</th>\n",
       "      <td>Meeting between Egyptian foreign minister and ...</td>\n",
       "      <td>True</td>\n",
       "    </tr>\n",
       "    <tr>\n",
       "      <th>44897</th>\n",
       "      <td>Moscow in talks with U.S. to create cyber work...</td>\n",
       "      <td>True</td>\n",
       "    </tr>\n",
       "  </tbody>\n",
       "</table>\n",
       "<p>44898 rows × 2 columns</p>\n",
       "</div>"
      ],
      "text/plain": [
       "                                                   title Target\n",
       "0       Trump Will ANNHILILATE The Working Class He’s...   Fake\n",
       "1      Yemen Houthis say have shot down U.S. surveill...   True\n",
       "2      BREAKING NEWS: TRUMP ADMIN ANNOUNCES “MASSIVE ...   Fake\n",
       "3      U.S. Commerce Secretary wants NAFTA autos cont...   True\n",
       "4      U.S. warns of repercussions for Pakistan over ...   True\n",
       "...                                                  ...    ...\n",
       "44893  Germany’s Angela Merkel Makes Incredibly Naive...   Fake\n",
       "44894  MEDIA IGNORES! HOUSE DEM IT SUSPECTS Wanted Un...   Fake\n",
       "44895  Obama administration completes rule to curb me...   True\n",
       "44896  Meeting between Egyptian foreign minister and ...   True\n",
       "44897  Moscow in talks with U.S. to create cyber work...   True\n",
       "\n",
       "[44898 rows x 2 columns]"
      ]
     },
     "execution_count": 42,
     "metadata": {},
     "output_type": "execute_result"
    }
   ],
   "source": [
    "df = pd.read_csv(\"fakenews.csv\")\n",
    "df"
   ]
  },
  {
   "cell_type": "code",
   "execution_count": 43,
   "metadata": {},
   "outputs": [],
   "source": [
    "import nltk"
   ]
  },
  {
   "cell_type": "code",
   "execution_count": 44,
   "metadata": {},
   "outputs": [
    {
     "data": {
      "text/html": [
       "<div>\n",
       "<style scoped>\n",
       "    .dataframe tbody tr th:only-of-type {\n",
       "        vertical-align: middle;\n",
       "    }\n",
       "\n",
       "    .dataframe tbody tr th {\n",
       "        vertical-align: top;\n",
       "    }\n",
       "\n",
       "    .dataframe thead th {\n",
       "        text-align: right;\n",
       "    }\n",
       "</style>\n",
       "<table border=\"1\" class=\"dataframe\">\n",
       "  <thead>\n",
       "    <tr style=\"text-align: right;\">\n",
       "      <th></th>\n",
       "      <th>title</th>\n",
       "      <th>Target</th>\n",
       "      <th>tokens</th>\n",
       "    </tr>\n",
       "  </thead>\n",
       "  <tbody>\n",
       "    <tr>\n",
       "      <th>0</th>\n",
       "      <td>Trump Will ANNHILILATE The Working Class He’s...</td>\n",
       "      <td>Fake</td>\n",
       "      <td>[Trump, Will, ANNHILILATE, The, Working, Class...</td>\n",
       "    </tr>\n",
       "    <tr>\n",
       "      <th>1</th>\n",
       "      <td>Yemen Houthis say have shot down U.S. surveill...</td>\n",
       "      <td>True</td>\n",
       "      <td>[Yemen, Houthis, say, have, shot, down, U.S., ...</td>\n",
       "    </tr>\n",
       "    <tr>\n",
       "      <th>2</th>\n",
       "      <td>BREAKING NEWS: TRUMP ADMIN ANNOUNCES “MASSIVE ...</td>\n",
       "      <td>Fake</td>\n",
       "      <td>[BREAKING, NEWS, :, TRUMP, ADMIN, ANNOUNCES, “...</td>\n",
       "    </tr>\n",
       "    <tr>\n",
       "      <th>3</th>\n",
       "      <td>U.S. Commerce Secretary wants NAFTA autos cont...</td>\n",
       "      <td>True</td>\n",
       "      <td>[U.S., Commerce, Secretary, wants, NAFTA, auto...</td>\n",
       "    </tr>\n",
       "    <tr>\n",
       "      <th>4</th>\n",
       "      <td>U.S. warns of repercussions for Pakistan over ...</td>\n",
       "      <td>True</td>\n",
       "      <td>[U.S., warns, of, repercussions, for, Pakistan...</td>\n",
       "    </tr>\n",
       "    <tr>\n",
       "      <th>...</th>\n",
       "      <td>...</td>\n",
       "      <td>...</td>\n",
       "      <td>...</td>\n",
       "    </tr>\n",
       "    <tr>\n",
       "      <th>44893</th>\n",
       "      <td>Germany’s Angela Merkel Makes Incredibly Naive...</td>\n",
       "      <td>Fake</td>\n",
       "      <td>[Germany, ’, s, Angela, Merkel, Makes, Incredi...</td>\n",
       "    </tr>\n",
       "    <tr>\n",
       "      <th>44894</th>\n",
       "      <td>MEDIA IGNORES! HOUSE DEM IT SUSPECTS Wanted Un...</td>\n",
       "      <td>Fake</td>\n",
       "      <td>[MEDIA, IGNORES, !, HOUSE, DEM, IT, SUSPECTS, ...</td>\n",
       "    </tr>\n",
       "    <tr>\n",
       "      <th>44895</th>\n",
       "      <td>Obama administration completes rule to curb me...</td>\n",
       "      <td>True</td>\n",
       "      <td>[Obama, administration, completes, rule, to, c...</td>\n",
       "    </tr>\n",
       "    <tr>\n",
       "      <th>44896</th>\n",
       "      <td>Meeting between Egyptian foreign minister and ...</td>\n",
       "      <td>True</td>\n",
       "      <td>[Meeting, between, Egyptian, foreign, minister...</td>\n",
       "    </tr>\n",
       "    <tr>\n",
       "      <th>44897</th>\n",
       "      <td>Moscow in talks with U.S. to create cyber work...</td>\n",
       "      <td>True</td>\n",
       "      <td>[Moscow, in, talks, with, U.S., to, create, cy...</td>\n",
       "    </tr>\n",
       "  </tbody>\n",
       "</table>\n",
       "<p>44898 rows × 3 columns</p>\n",
       "</div>"
      ],
      "text/plain": [
       "                                                   title Target  \\\n",
       "0       Trump Will ANNHILILATE The Working Class He’s...   Fake   \n",
       "1      Yemen Houthis say have shot down U.S. surveill...   True   \n",
       "2      BREAKING NEWS: TRUMP ADMIN ANNOUNCES “MASSIVE ...   Fake   \n",
       "3      U.S. Commerce Secretary wants NAFTA autos cont...   True   \n",
       "4      U.S. warns of repercussions for Pakistan over ...   True   \n",
       "...                                                  ...    ...   \n",
       "44893  Germany’s Angela Merkel Makes Incredibly Naive...   Fake   \n",
       "44894  MEDIA IGNORES! HOUSE DEM IT SUSPECTS Wanted Un...   Fake   \n",
       "44895  Obama administration completes rule to curb me...   True   \n",
       "44896  Meeting between Egyptian foreign minister and ...   True   \n",
       "44897  Moscow in talks with U.S. to create cyber work...   True   \n",
       "\n",
       "                                                  tokens  \n",
       "0      [Trump, Will, ANNHILILATE, The, Working, Class...  \n",
       "1      [Yemen, Houthis, say, have, shot, down, U.S., ...  \n",
       "2      [BREAKING, NEWS, :, TRUMP, ADMIN, ANNOUNCES, “...  \n",
       "3      [U.S., Commerce, Secretary, wants, NAFTA, auto...  \n",
       "4      [U.S., warns, of, repercussions, for, Pakistan...  \n",
       "...                                                  ...  \n",
       "44893  [Germany, ’, s, Angela, Merkel, Makes, Incredi...  \n",
       "44894  [MEDIA, IGNORES, !, HOUSE, DEM, IT, SUSPECTS, ...  \n",
       "44895  [Obama, administration, completes, rule, to, c...  \n",
       "44896  [Meeting, between, Egyptian, foreign, minister...  \n",
       "44897  [Moscow, in, talks, with, U.S., to, create, cy...  \n",
       "\n",
       "[44898 rows x 3 columns]"
      ]
     },
     "execution_count": 44,
     "metadata": {},
     "output_type": "execute_result"
    }
   ],
   "source": [
    "df['tokens'] = df['title'].apply(nltk.word_tokenize)\n",
    "df"
   ]
  },
  {
   "cell_type": "code",
   "execution_count": 45,
   "metadata": {},
   "outputs": [],
   "source": [
    "from datetime import date\n",
    "from pprint import pprint"
   ]
  },
  {
   "cell_type": "code",
   "execution_count": 46,
   "metadata": {},
   "outputs": [],
   "source": [
    "from marshmallow import Schema, fields, validate, ValidationError"
   ]
  },
  {
   "attachments": {},
   "cell_type": "markdown",
   "metadata": {},
   "source": [
    "Make a validation method using marshmallow\n",
    "\n",
    "The validation method will be based upon the known words to the data as well as length of the text and score it accordingly to validate the data"
   ]
  },
  {
   "cell_type": "code",
   "execution_count": 47,
   "metadata": {},
   "outputs": [
    {
     "data": {
      "text/plain": [
       "657133"
      ]
     },
     "execution_count": 47,
     "metadata": {},
     "output_type": "execute_result"
    }
   ],
   "source": [
    "tokenized_words = list()\n",
    "\n",
    "for i in df['tokens']:\n",
    "    for j in i:\n",
    "        tokenized_words.append(j.lower())\n",
    "\n",
    "len(tokenized_words)\n",
    "# print(tokenized_words)"
   ]
  },
  {
   "cell_type": "code",
   "execution_count": 48,
   "metadata": {},
   "outputs": [
    {
     "data": {
      "text/plain": [
       "27023"
      ]
     },
     "execution_count": 48,
     "metadata": {},
     "output_type": "execute_result"
    }
   ],
   "source": [
    "tokenized_words = set(tokenized_words)\n",
    "len(tokenized_words)"
   ]
  },
  {
   "cell_type": "code",
   "execution_count": 49,
   "metadata": {},
   "outputs": [],
   "source": [
    "def validateWords(title: str):\n",
    "    tokenized_title = nltk.word_tokenize(title)\n",
    "    tokenized_title = [x.lower() for x in tokenized_title]\n",
    "    unknown_words = [t for t in tokenized_title if t not in tokenized_words]\n",
    "    validation_score = (len(tokenized_title) - len(unknown_words))/len(tokenized_title)\n",
    "\n",
    "    if validation_score < 0.1 and len(unknown_words) > 0:\n",
    "        # Uncomment the line below to create a validation error\n",
    "        # raise ValidationError(f\"Too many unknown words: {unknown_words}\")\n",
    "        print(f\"Too many unknown words: {unknown_words}\")\n"
   ]
  },
  {
   "cell_type": "code",
   "execution_count": 50,
   "metadata": {},
   "outputs": [
    {
     "name": "stdout",
     "output_type": "stream",
     "text": [
      "Too many unknown words: ['mentos', 'demn', 'bruv']\n"
     ]
    }
   ],
   "source": [
    "validateWords(\"mentos demn bruv\")\n",
    "\n",
    "#* It scores according to the existing data\n",
    "validateWords(\"Donald\")"
   ]
  },
  {
   "cell_type": "code",
   "execution_count": null,
   "metadata": {},
   "outputs": [],
   "source": []
  }
 ],
 "metadata": {
  "kernelspec": {
   "display_name": "Python 3",
   "language": "python",
   "name": "python3"
  },
  "language_info": {
   "codemirror_mode": {
    "name": "ipython",
    "version": 3
   },
   "file_extension": ".py",
   "mimetype": "text/x-python",
   "name": "python",
   "nbconvert_exporter": "python",
   "pygments_lexer": "ipython3",
   "version": "3.11.0"
  },
  "orig_nbformat": 4
 },
 "nbformat": 4,
 "nbformat_minor": 2
}
