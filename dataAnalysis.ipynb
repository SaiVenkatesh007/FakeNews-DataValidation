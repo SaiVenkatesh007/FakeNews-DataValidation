{
 "cells": [
  {
   "cell_type": "code",
   "execution_count": 3,
   "metadata": {},
   "outputs": [],
   "source": [
    "import pandas as pd\n",
    "import nltk\n",
    "import matplotlib.pyplot as plt\n",
    "import random"
   ]
  },
  {
   "cell_type": "code",
   "execution_count": 4,
   "metadata": {},
   "outputs": [
    {
     "data": {
      "text/html": [
       "<div>\n",
       "<style scoped>\n",
       "    .dataframe tbody tr th:only-of-type {\n",
       "        vertical-align: middle;\n",
       "    }\n",
       "\n",
       "    .dataframe tbody tr th {\n",
       "        vertical-align: top;\n",
       "    }\n",
       "\n",
       "    .dataframe thead th {\n",
       "        text-align: right;\n",
       "    }\n",
       "</style>\n",
       "<table border=\"1\" class=\"dataframe\">\n",
       "  <thead>\n",
       "    <tr style=\"text-align: right;\">\n",
       "      <th></th>\n",
       "      <th>title</th>\n",
       "      <th>Target</th>\n",
       "    </tr>\n",
       "  </thead>\n",
       "  <tbody>\n",
       "    <tr>\n",
       "      <th>0</th>\n",
       "      <td>Trump Will ANNHILILATE The Working Class He’s...</td>\n",
       "      <td>Fake</td>\n",
       "    </tr>\n",
       "    <tr>\n",
       "      <th>1</th>\n",
       "      <td>Yemen Houthis say have shot down U.S. surveill...</td>\n",
       "      <td>True</td>\n",
       "    </tr>\n",
       "    <tr>\n",
       "      <th>2</th>\n",
       "      <td>BREAKING NEWS: TRUMP ADMIN ANNOUNCES “MASSIVE ...</td>\n",
       "      <td>Fake</td>\n",
       "    </tr>\n",
       "    <tr>\n",
       "      <th>3</th>\n",
       "      <td>U.S. Commerce Secretary wants NAFTA autos cont...</td>\n",
       "      <td>True</td>\n",
       "    </tr>\n",
       "    <tr>\n",
       "      <th>4</th>\n",
       "      <td>U.S. warns of repercussions for Pakistan over ...</td>\n",
       "      <td>True</td>\n",
       "    </tr>\n",
       "    <tr>\n",
       "      <th>...</th>\n",
       "      <td>...</td>\n",
       "      <td>...</td>\n",
       "    </tr>\n",
       "    <tr>\n",
       "      <th>44893</th>\n",
       "      <td>Germany’s Angela Merkel Makes Incredibly Naive...</td>\n",
       "      <td>Fake</td>\n",
       "    </tr>\n",
       "    <tr>\n",
       "      <th>44894</th>\n",
       "      <td>MEDIA IGNORES! HOUSE DEM IT SUSPECTS Wanted Un...</td>\n",
       "      <td>Fake</td>\n",
       "    </tr>\n",
       "    <tr>\n",
       "      <th>44895</th>\n",
       "      <td>Obama administration completes rule to curb me...</td>\n",
       "      <td>True</td>\n",
       "    </tr>\n",
       "    <tr>\n",
       "      <th>44896</th>\n",
       "      <td>Meeting between Egyptian foreign minister and ...</td>\n",
       "      <td>True</td>\n",
       "    </tr>\n",
       "    <tr>\n",
       "      <th>44897</th>\n",
       "      <td>Moscow in talks with U.S. to create cyber work...</td>\n",
       "      <td>True</td>\n",
       "    </tr>\n",
       "  </tbody>\n",
       "</table>\n",
       "<p>44898 rows × 2 columns</p>\n",
       "</div>"
      ],
      "text/plain": [
       "                                                   title Target\n",
       "0       Trump Will ANNHILILATE The Working Class He’s...   Fake\n",
       "1      Yemen Houthis say have shot down U.S. surveill...   True\n",
       "2      BREAKING NEWS: TRUMP ADMIN ANNOUNCES “MASSIVE ...   Fake\n",
       "3      U.S. Commerce Secretary wants NAFTA autos cont...   True\n",
       "4      U.S. warns of repercussions for Pakistan over ...   True\n",
       "...                                                  ...    ...\n",
       "44893  Germany’s Angela Merkel Makes Incredibly Naive...   Fake\n",
       "44894  MEDIA IGNORES! HOUSE DEM IT SUSPECTS Wanted Un...   Fake\n",
       "44895  Obama administration completes rule to curb me...   True\n",
       "44896  Meeting between Egyptian foreign minister and ...   True\n",
       "44897  Moscow in talks with U.S. to create cyber work...   True\n",
       "\n",
       "[44898 rows x 2 columns]"
      ]
     },
     "execution_count": 4,
     "metadata": {},
     "output_type": "execute_result"
    }
   ],
   "source": [
    "df = pd.read_csv(\"data/fakenews.csv\")\n",
    "df"
   ]
  },
  {
   "cell_type": "code",
   "execution_count": 5,
   "metadata": {},
   "outputs": [
    {
     "data": {
      "text/plain": [
       "44898"
      ]
     },
     "execution_count": 5,
     "metadata": {},
     "output_type": "execute_result"
    }
   ],
   "source": [
    "size = len(df)\n",
    "size"
   ]
  },
  {
   "cell_type": "code",
   "execution_count": 6,
   "metadata": {},
   "outputs": [
    {
     "data": {
      "text/plain": [
       "Fake    23461\n",
       "True    21437\n",
       "Name: Target, dtype: int64"
      ]
     },
     "execution_count": 6,
     "metadata": {},
     "output_type": "execute_result"
    }
   ],
   "source": [
    "counts = df[\"Target\"].value_counts()\n",
    "counts"
   ]
  },
  {
   "cell_type": "code",
   "execution_count": 7,
   "metadata": {},
   "outputs": [
    {
     "data": {
      "text/plain": [
       "<AxesSubplot: >"
      ]
     },
     "execution_count": 7,
     "metadata": {},
     "output_type": "execute_result"
    },
    {
     "data": {
      "image/png": "[encoded data removed]",
      "text/plain": [
       "<Figure size 640x480 with 1 Axes>"
      ]
     },
     "metadata": {},
     "output_type": "display_data"
    }
   ],
   "source": [
    "counts.plot(kind = 'bar')"
   ]
  },
  {
   "cell_type": "code",
   "execution_count": 8,
   "metadata": {},
   "outputs": [
    {
     "data": {
      "text/plain": [
       "['BREAKING',\n",
       " 'NEWS',\n",
       " ':',\n",
       " 'TRUMP',\n",
       " 'ADMIN',\n",
       " 'ANNOUNCES',\n",
       " '“',\n",
       " 'MASSIVE',\n",
       " 'TAX',\n",
       " 'CUT',\n",
       " '”',\n",
       " 'For',\n",
       " 'Businesses',\n",
       " 'And',\n",
       " 'Massive',\n",
       " 'Tax',\n",
       " 'Reform',\n",
       " '[',\n",
       " 'VIDEO',\n",
       " ']']"
      ]
     },
     "execution_count": 8,
     "metadata": {},
     "output_type": "execute_result"
    }
   ],
   "source": [
    "nltk.word_tokenize(df['title'][2])"
   ]
  },
  {
   "cell_type": "code",
   "execution_count": 9,
   "metadata": {},
   "outputs": [
    {
     "data": {
      "text/html": [
       "<div>\n",
       "<style scoped>\n",
       "    .dataframe tbody tr th:only-of-type {\n",
       "        vertical-align: middle;\n",
       "    }\n",
       "\n",
       "    .dataframe tbody tr th {\n",
       "        vertical-align: top;\n",
       "    }\n",
       "\n",
       "    .dataframe thead th {\n",
       "        text-align: right;\n",
       "    }\n",
       "</style>\n",
       "<table border=\"1\" class=\"dataframe\">\n",
       "  <thead>\n",
       "    <tr style=\"text-align: right;\">\n",
       "      <th></th>\n",
       "      <th>title</th>\n",
       "      <th>Target</th>\n",
       "      <th>tokens</th>\n",
       "    </tr>\n",
       "  </thead>\n",
       "  <tbody>\n",
       "    <tr>\n",
       "      <th>0</th>\n",
       "      <td>Trump Will ANNHILILATE The Working Class He’s...</td>\n",
       "      <td>Fake</td>\n",
       "      <td>[Trump, Will, ANNHILILATE, The, Working, Class...</td>\n",
       "    </tr>\n",
       "    <tr>\n",
       "      <th>1</th>\n",
       "      <td>Yemen Houthis say have shot down U.S. surveill...</td>\n",
       "      <td>True</td>\n",
       "      <td>[Yemen, Houthis, say, have, shot, down, U.S., ...</td>\n",
       "    </tr>\n",
       "    <tr>\n",
       "      <th>2</th>\n",
       "      <td>BREAKING NEWS: TRUMP ADMIN ANNOUNCES “MASSIVE ...</td>\n",
       "      <td>Fake</td>\n",
       "      <td>[BREAKING, NEWS, :, TRUMP, ADMIN, ANNOUNCES, “...</td>\n",
       "    </tr>\n",
       "    <tr>\n",
       "      <th>3</th>\n",
       "      <td>U.S. Commerce Secretary wants NAFTA autos cont...</td>\n",
       "      <td>True</td>\n",
       "      <td>[U.S., Commerce, Secretary, wants, NAFTA, auto...</td>\n",
       "    </tr>\n",
       "    <tr>\n",
       "      <th>4</th>\n",
       "      <td>U.S. warns of repercussions for Pakistan over ...</td>\n",
       "      <td>True</td>\n",
       "      <td>[U.S., warns, of, repercussions, for, Pakistan...</td>\n",
       "    </tr>\n",
       "    <tr>\n",
       "      <th>...</th>\n",
       "      <td>...</td>\n",
       "      <td>...</td>\n",
       "      <td>...</td>\n",
       "    </tr>\n",
       "    <tr>\n",
       "      <th>44893</th>\n",
       "      <td>Germany’s Angela Merkel Makes Incredibly Naive...</td>\n",
       "      <td>Fake</td>\n",
       "      <td>[Germany, ’, s, Angela, Merkel, Makes, Incredi...</td>\n",
       "    </tr>\n",
       "    <tr>\n",
       "      <th>44894</th>\n",
       "      <td>MEDIA IGNORES! HOUSE DEM IT SUSPECTS Wanted Un...</td>\n",
       "      <td>Fake</td>\n",
       "      <td>[MEDIA, IGNORES, !, HOUSE, DEM, IT, SUSPECTS, ...</td>\n",
       "    </tr>\n",
       "    <tr>\n",
       "      <th>44895</th>\n",
       "      <td>Obama administration completes rule to curb me...</td>\n",
       "      <td>True</td>\n",
       "      <td>[Obama, administration, completes, rule, to, c...</td>\n",
       "    </tr>\n",
       "    <tr>\n",
       "      <th>44896</th>\n",
       "      <td>Meeting between Egyptian foreign minister and ...</td>\n",
       "      <td>True</td>\n",
       "      <td>[Meeting, between, Egyptian, foreign, minister...</td>\n",
       "    </tr>\n",
       "    <tr>\n",
       "      <th>44897</th>\n",
       "      <td>Moscow in talks with U.S. to create cyber work...</td>\n",
       "      <td>True</td>\n",
       "      <td>[Moscow, in, talks, with, U.S., to, create, cy...</td>\n",
       "    </tr>\n",
       "  </tbody>\n",
       "</table>\n",
       "<p>44898 rows × 3 columns</p>\n",
       "</div>"
      ],
      "text/plain": [
       "                                                   title Target  \\\n",
       "0       Trump Will ANNHILILATE The Working Class He’s...   Fake   \n",
       "1      Yemen Houthis say have shot down U.S. surveill...   True   \n",
       "2      BREAKING NEWS: TRUMP ADMIN ANNOUNCES “MASSIVE ...   Fake   \n",
       "3      U.S. Commerce Secretary wants NAFTA autos cont...   True   \n",
       "4      U.S. warns of repercussions for Pakistan over ...   True   \n",
       "...                                                  ...    ...   \n",
       "44893  Germany’s Angela Merkel Makes Incredibly Naive...   Fake   \n",
       "44894  MEDIA IGNORES! HOUSE DEM IT SUSPECTS Wanted Un...   Fake   \n",
       "44895  Obama administration completes rule to curb me...   True   \n",
       "44896  Meeting between Egyptian foreign minister and ...   True   \n",
       "44897  Moscow in talks with U.S. to create cyber work...   True   \n",
       "\n",
       "                                                  tokens  \n",
       "0      [Trump, Will, ANNHILILATE, The, Working, Class...  \n",
       "1      [Yemen, Houthis, say, have, shot, down, U.S., ...  \n",
       "2      [BREAKING, NEWS, :, TRUMP, ADMIN, ANNOUNCES, “...  \n",
       "3      [U.S., Commerce, Secretary, wants, NAFTA, auto...  \n",
       "4      [U.S., warns, of, repercussions, for, Pakistan...  \n",
       "...                                                  ...  \n",
       "44893  [Germany, ’, s, Angela, Merkel, Makes, Incredi...  \n",
       "44894  [MEDIA, IGNORES, !, HOUSE, DEM, IT, SUSPECTS, ...  \n",
       "44895  [Obama, administration, completes, rule, to, c...  \n",
       "44896  [Meeting, between, Egyptian, foreign, minister...  \n",
       "44897  [Moscow, in, talks, with, U.S., to, create, cy...  \n",
       "\n",
       "[44898 rows x 3 columns]"
      ]
     },
     "execution_count": 9,
     "metadata": {},
     "output_type": "execute_result"
    }
   ],
   "source": [
    "df['tokens'] = df['title'].apply(nltk.word_tokenize)\n",
    "df"
   ]
  },
  {
   "cell_type": "code",
   "execution_count": 10,
   "metadata": {},
   "outputs": [
    {
     "data": {
      "text/html": [
       "<div>\n",
       "<style scoped>\n",
       "    .dataframe tbody tr th:only-of-type {\n",
       "        vertical-align: middle;\n",
       "    }\n",
       "\n",
       "    .dataframe tbody tr th {\n",
       "        vertical-align: top;\n",
       "    }\n",
       "\n",
       "    .dataframe thead th {\n",
       "        text-align: right;\n",
       "    }\n",
       "</style>\n",
       "<table border=\"1\" class=\"dataframe\">\n",
       "  <thead>\n",
       "    <tr style=\"text-align: right;\">\n",
       "      <th></th>\n",
       "      <th>title</th>\n",
       "      <th>Target</th>\n",
       "      <th>tokens</th>\n",
       "      <th>length</th>\n",
       "    </tr>\n",
       "  </thead>\n",
       "  <tbody>\n",
       "    <tr>\n",
       "      <th>0</th>\n",
       "      <td>Trump Will ANNHILILATE The Working Class He’s...</td>\n",
       "      <td>Fake</td>\n",
       "      <td>[Trump, Will, ANNHILILATE, The, Working, Class...</td>\n",
       "      <td>19</td>\n",
       "    </tr>\n",
       "    <tr>\n",
       "      <th>1</th>\n",
       "      <td>Yemen Houthis say have shot down U.S. surveill...</td>\n",
       "      <td>True</td>\n",
       "      <td>[Yemen, Houthis, say, have, shot, down, U.S., ...</td>\n",
       "      <td>13</td>\n",
       "    </tr>\n",
       "    <tr>\n",
       "      <th>2</th>\n",
       "      <td>BREAKING NEWS: TRUMP ADMIN ANNOUNCES “MASSIVE ...</td>\n",
       "      <td>Fake</td>\n",
       "      <td>[BREAKING, NEWS, :, TRUMP, ADMIN, ANNOUNCES, “...</td>\n",
       "      <td>20</td>\n",
       "    </tr>\n",
       "    <tr>\n",
       "      <th>3</th>\n",
       "      <td>U.S. Commerce Secretary wants NAFTA autos cont...</td>\n",
       "      <td>True</td>\n",
       "      <td>[U.S., Commerce, Secretary, wants, NAFTA, auto...</td>\n",
       "      <td>13</td>\n",
       "    </tr>\n",
       "    <tr>\n",
       "      <th>4</th>\n",
       "      <td>U.S. warns of repercussions for Pakistan over ...</td>\n",
       "      <td>True</td>\n",
       "      <td>[U.S., warns, of, repercussions, for, Pakistan...</td>\n",
       "      <td>9</td>\n",
       "    </tr>\n",
       "    <tr>\n",
       "      <th>...</th>\n",
       "      <td>...</td>\n",
       "      <td>...</td>\n",
       "      <td>...</td>\n",
       "      <td>...</td>\n",
       "    </tr>\n",
       "    <tr>\n",
       "      <th>44893</th>\n",
       "      <td>Germany’s Angela Merkel Makes Incredibly Naive...</td>\n",
       "      <td>Fake</td>\n",
       "      <td>[Germany, ’, s, Angela, Merkel, Makes, Incredi...</td>\n",
       "      <td>19</td>\n",
       "    </tr>\n",
       "    <tr>\n",
       "      <th>44894</th>\n",
       "      <td>MEDIA IGNORES! HOUSE DEM IT SUSPECTS Wanted Un...</td>\n",
       "      <td>Fake</td>\n",
       "      <td>[MEDIA, IGNORES, !, HOUSE, DEM, IT, SUSPECTS, ...</td>\n",
       "      <td>12</td>\n",
       "    </tr>\n",
       "    <tr>\n",
       "      <th>44895</th>\n",
       "      <td>Obama administration completes rule to curb me...</td>\n",
       "      <td>True</td>\n",
       "      <td>[Obama, administration, completes, rule, to, c...</td>\n",
       "      <td>13</td>\n",
       "    </tr>\n",
       "    <tr>\n",
       "      <th>44896</th>\n",
       "      <td>Meeting between Egyptian foreign minister and ...</td>\n",
       "      <td>True</td>\n",
       "      <td>[Meeting, between, Egyptian, foreign, minister...</td>\n",
       "      <td>11</td>\n",
       "    </tr>\n",
       "    <tr>\n",
       "      <th>44897</th>\n",
       "      <td>Moscow in talks with U.S. to create cyber work...</td>\n",
       "      <td>True</td>\n",
       "      <td>[Moscow, in, talks, with, U.S., to, create, cy...</td>\n",
       "      <td>13</td>\n",
       "    </tr>\n",
       "  </tbody>\n",
       "</table>\n",
       "<p>44898 rows × 4 columns</p>\n",
       "</div>"
      ],
      "text/plain": [
       "                                                   title Target  \\\n",
       "0       Trump Will ANNHILILATE The Working Class He’s...   Fake   \n",
       "1      Yemen Houthis say have shot down U.S. surveill...   True   \n",
       "2      BREAKING NEWS: TRUMP ADMIN ANNOUNCES “MASSIVE ...   Fake   \n",
       "3      U.S. Commerce Secretary wants NAFTA autos cont...   True   \n",
       "4      U.S. warns of repercussions for Pakistan over ...   True   \n",
       "...                                                  ...    ...   \n",
       "44893  Germany’s Angela Merkel Makes Incredibly Naive...   Fake   \n",
       "44894  MEDIA IGNORES! HOUSE DEM IT SUSPECTS Wanted Un...   Fake   \n",
       "44895  Obama administration completes rule to curb me...   True   \n",
       "44896  Meeting between Egyptian foreign minister and ...   True   \n",
       "44897  Moscow in talks with U.S. to create cyber work...   True   \n",
       "\n",
       "                                                  tokens  length  \n",
       "0      [Trump, Will, ANNHILILATE, The, Working, Class...      19  \n",
       "1      [Yemen, Houthis, say, have, shot, down, U.S., ...      13  \n",
       "2      [BREAKING, NEWS, :, TRUMP, ADMIN, ANNOUNCES, “...      20  \n",
       "3      [U.S., Commerce, Secretary, wants, NAFTA, auto...      13  \n",
       "4      [U.S., warns, of, repercussions, for, Pakistan...       9  \n",
       "...                                                  ...     ...  \n",
       "44893  [Germany, ’, s, Angela, Merkel, Makes, Incredi...      19  \n",
       "44894  [MEDIA, IGNORES, !, HOUSE, DEM, IT, SUSPECTS, ...      12  \n",
       "44895  [Obama, administration, completes, rule, to, c...      13  \n",
       "44896  [Meeting, between, Egyptian, foreign, minister...      11  \n",
       "44897  [Moscow, in, talks, with, U.S., to, create, cy...      13  \n",
       "\n",
       "[44898 rows x 4 columns]"
      ]
     },
     "execution_count": 10,
     "metadata": {},
     "output_type": "execute_result"
    }
   ],
   "source": [
    "df['length'] = df['tokens'].apply(len)\n",
    "df"
   ]
  },
  {
   "cell_type": "code",
   "execution_count": 11,
   "metadata": {},
   "outputs": [
    {
     "data": {
      "text/plain": [
       "14.63613078533565"
      ]
     },
     "execution_count": 11,
     "metadata": {},
     "output_type": "execute_result"
    }
   ],
   "source": [
    "avg_len = df['length'].mean()\n",
    "avg_len"
   ]
  },
  {
   "cell_type": "code",
   "execution_count": 12,
   "metadata": {},
   "outputs": [
    {
     "name": "stdout",
     "output_type": "stream",
     "text": [
      "No. of small titles: 26759\n",
      "No. of big titles: 18139\n"
     ]
    }
   ],
   "source": [
    "smallTitle = []\n",
    "bigTitle = []\n",
    "\n",
    "for i in df['length']:\n",
    "    if int(i) < avg_len:\n",
    "        smallTitle += [i]\n",
    "    else:\n",
    "        bigTitle += [i]\n",
    "        \n",
    "print(\"No. of small titles: \" + str(len(smallTitle)) + \"\\nNo. of big titles: \" + str(len(bigTitle)))"
   ]
  },
  {
   "cell_type": "code",
   "execution_count": 13,
   "metadata": {},
   "outputs": [],
   "source": [
    "def titleType(size):\n",
    "    if int(size) < avg_len:\n",
    "        return \"Small Title\"\n",
    "    else:\n",
    "        return \"Big Title\""
   ]
  },
  {
   "cell_type": "code",
   "execution_count": 14,
   "metadata": {},
   "outputs": [
    {
     "data": {
      "text/html": [
       "<div>\n",
       "<style scoped>\n",
       "    .dataframe tbody tr th:only-of-type {\n",
       "        vertical-align: middle;\n",
       "    }\n",
       "\n",
       "    .dataframe tbody tr th {\n",
       "        vertical-align: top;\n",
       "    }\n",
       "\n",
       "    .dataframe thead th {\n",
       "        text-align: right;\n",
       "    }\n",
       "</style>\n",
       "<table border=\"1\" class=\"dataframe\">\n",
       "  <thead>\n",
       "    <tr style=\"text-align: right;\">\n",
       "      <th></th>\n",
       "      <th>title</th>\n",
       "      <th>Target</th>\n",
       "      <th>tokens</th>\n",
       "      <th>length</th>\n",
       "      <th>Title Type</th>\n",
       "    </tr>\n",
       "  </thead>\n",
       "  <tbody>\n",
       "    <tr>\n",
       "      <th>0</th>\n",
       "      <td>Trump Will ANNHILILATE The Working Class He’s...</td>\n",
       "      <td>Fake</td>\n",
       "      <td>[Trump, Will, ANNHILILATE, The, Working, Class...</td>\n",
       "      <td>19</td>\n",
       "      <td>Big Title</td>\n",
       "    </tr>\n",
       "    <tr>\n",
       "      <th>1</th>\n",
       "      <td>Yemen Houthis say have shot down U.S. surveill...</td>\n",
       "      <td>True</td>\n",
       "      <td>[Yemen, Houthis, say, have, shot, down, U.S., ...</td>\n",
       "      <td>13</td>\n",
       "      <td>Small Title</td>\n",
       "    </tr>\n",
       "    <tr>\n",
       "      <th>2</th>\n",
       "      <td>BREAKING NEWS: TRUMP ADMIN ANNOUNCES “MASSIVE ...</td>\n",
       "      <td>Fake</td>\n",
       "      <td>[BREAKING, NEWS, :, TRUMP, ADMIN, ANNOUNCES, “...</td>\n",
       "      <td>20</td>\n",
       "      <td>Big Title</td>\n",
       "    </tr>\n",
       "    <tr>\n",
       "      <th>3</th>\n",
       "      <td>U.S. Commerce Secretary wants NAFTA autos cont...</td>\n",
       "      <td>True</td>\n",
       "      <td>[U.S., Commerce, Secretary, wants, NAFTA, auto...</td>\n",
       "      <td>13</td>\n",
       "      <td>Small Title</td>\n",
       "    </tr>\n",
       "    <tr>\n",
       "      <th>4</th>\n",
       "      <td>U.S. warns of repercussions for Pakistan over ...</td>\n",
       "      <td>True</td>\n",
       "      <td>[U.S., warns, of, repercussions, for, Pakistan...</td>\n",
       "      <td>9</td>\n",
       "      <td>Small Title</td>\n",
       "    </tr>\n",
       "    <tr>\n",
       "      <th>...</th>\n",
       "      <td>...</td>\n",
       "      <td>...</td>\n",
       "      <td>...</td>\n",
       "      <td>...</td>\n",
       "      <td>...</td>\n",
       "    </tr>\n",
       "    <tr>\n",
       "      <th>44893</th>\n",
       "      <td>Germany’s Angela Merkel Makes Incredibly Naive...</td>\n",
       "      <td>Fake</td>\n",
       "      <td>[Germany, ’, s, Angela, Merkel, Makes, Incredi...</td>\n",
       "      <td>19</td>\n",
       "      <td>Big Title</td>\n",
       "    </tr>\n",
       "    <tr>\n",
       "      <th>44894</th>\n",
       "      <td>MEDIA IGNORES! HOUSE DEM IT SUSPECTS Wanted Un...</td>\n",
       "      <td>Fake</td>\n",
       "      <td>[MEDIA, IGNORES, !, HOUSE, DEM, IT, SUSPECTS, ...</td>\n",
       "      <td>12</td>\n",
       "      <td>Small Title</td>\n",
       "    </tr>\n",
       "    <tr>\n",
       "      <th>44895</th>\n",
       "      <td>Obama administration completes rule to curb me...</td>\n",
       "      <td>True</td>\n",
       "      <td>[Obama, administration, completes, rule, to, c...</td>\n",
       "      <td>13</td>\n",
       "      <td>Small Title</td>\n",
       "    </tr>\n",
       "    <tr>\n",
       "      <th>44896</th>\n",
       "      <td>Meeting between Egyptian foreign minister and ...</td>\n",
       "      <td>True</td>\n",
       "      <td>[Meeting, between, Egyptian, foreign, minister...</td>\n",
       "      <td>11</td>\n",
       "      <td>Small Title</td>\n",
       "    </tr>\n",
       "    <tr>\n",
       "      <th>44897</th>\n",
       "      <td>Moscow in talks with U.S. to create cyber work...</td>\n",
       "      <td>True</td>\n",
       "      <td>[Moscow, in, talks, with, U.S., to, create, cy...</td>\n",
       "      <td>13</td>\n",
       "      <td>Small Title</td>\n",
       "    </tr>\n",
       "  </tbody>\n",
       "</table>\n",
       "<p>44898 rows × 5 columns</p>\n",
       "</div>"
      ],
      "text/plain": [
       "                                                   title Target  \\\n",
       "0       Trump Will ANNHILILATE The Working Class He’s...   Fake   \n",
       "1      Yemen Houthis say have shot down U.S. surveill...   True   \n",
       "2      BREAKING NEWS: TRUMP ADMIN ANNOUNCES “MASSIVE ...   Fake   \n",
       "3      U.S. Commerce Secretary wants NAFTA autos cont...   True   \n",
       "4      U.S. warns of repercussions for Pakistan over ...   True   \n",
       "...                                                  ...    ...   \n",
       "44893  Germany’s Angela Merkel Makes Incredibly Naive...   Fake   \n",
       "44894  MEDIA IGNORES! HOUSE DEM IT SUSPECTS Wanted Un...   Fake   \n",
       "44895  Obama administration completes rule to curb me...   True   \n",
       "44896  Meeting between Egyptian foreign minister and ...   True   \n",
       "44897  Moscow in talks with U.S. to create cyber work...   True   \n",
       "\n",
       "                                                  tokens  length   Title Type  \n",
       "0      [Trump, Will, ANNHILILATE, The, Working, Class...      19    Big Title  \n",
       "1      [Yemen, Houthis, say, have, shot, down, U.S., ...      13  Small Title  \n",
       "2      [BREAKING, NEWS, :, TRUMP, ADMIN, ANNOUNCES, “...      20    Big Title  \n",
       "3      [U.S., Commerce, Secretary, wants, NAFTA, auto...      13  Small Title  \n",
       "4      [U.S., warns, of, repercussions, for, Pakistan...       9  Small Title  \n",
       "...                                                  ...     ...          ...  \n",
       "44893  [Germany, ’, s, Angela, Merkel, Makes, Incredi...      19    Big Title  \n",
       "44894  [MEDIA, IGNORES, !, HOUSE, DEM, IT, SUSPECTS, ...      12  Small Title  \n",
       "44895  [Obama, administration, completes, rule, to, c...      13  Small Title  \n",
       "44896  [Meeting, between, Egyptian, foreign, minister...      11  Small Title  \n",
       "44897  [Moscow, in, talks, with, U.S., to, create, cy...      13  Small Title  \n",
       "\n",
       "[44898 rows x 5 columns]"
      ]
     },
     "execution_count": 14,
     "metadata": {},
     "output_type": "execute_result"
    }
   ],
   "source": [
    "df[\"Title Type\"] = df['length'].apply(titleType)\n",
    "df"
   ]
  },
  {
   "cell_type": "code",
   "execution_count": 15,
   "metadata": {},
   "outputs": [
    {
     "data": {
      "text/plain": [
       "Small Title    26759\n",
       "Big Title      18139\n",
       "Name: Title Type, dtype: int64"
      ]
     },
     "execution_count": 15,
     "metadata": {},
     "output_type": "execute_result"
    }
   ],
   "source": [
    "sizes = df['Title Type'].value_counts()\n",
    "sizes"
   ]
  },
  {
   "cell_type": "code",
   "execution_count": 16,
   "metadata": {},
   "outputs": [
    {
     "data": {
      "text/plain": [
       "<AxesSubplot: >"
      ]
     },
     "execution_count": 16,
     "metadata": {},
     "output_type": "execute_result"
    },
    {
     "data": {
      "image/png": "[encoded data removed]",
      "text/plain": [
       "<Figure size 640x480 with 1 Axes>"
      ]
     },
     "metadata": {},
     "output_type": "display_data"
    }
   ],
   "source": [
    "sizes.plot(kind = 'bar')"
   ]
  },
  {
   "cell_type": "code",
   "execution_count": 17,
   "metadata": {},
   "outputs": [
    {
     "data": {
      "image/png": "[encoded data removed]",
      "text/plain": [
       "<Figure size 640x480 with 1 Axes>"
      ]
     },
     "metadata": {},
     "output_type": "display_data"
    }
   ],
   "source": [
    "plt.hist(df['length'], bins=50)\n",
    "plt.xlabel('Text length')\n",
    "plt.ylabel('Count')\n",
    "plt.show()"
   ]
  },
  {
   "cell_type": "code",
   "execution_count": 18,
   "metadata": {},
   "outputs": [
    {
     "data": {
      "image/png": "[encoded data removed]",
      "text/plain": [
       "<Figure size 640x480 with 1 Axes>"
      ]
     },
     "metadata": {},
     "output_type": "display_data"
    }
   ],
   "source": [
    "plt.boxplot(df['length'])\n",
    "plt.ylabel('Text length')\n",
    "plt.show()"
   ]
  },
  {
   "cell_type": "markdown",
   "metadata": {},
   "source": [
    "# Stratified Sampling"
   ]
  },
  {
   "cell_type": "code",
   "execution_count": 19,
   "metadata": {},
   "outputs": [
    {
     "name": "stdout",
     "output_type": "stream",
     "text": [
      "Bins dictionary has been created\n",
      "\n",
      "Issue(s) found\n"
     ]
    }
   ],
   "source": [
    "lengths = df['length']\n",
    "samples_per_bin = 1000\n",
    "bins = {}\n",
    "\n",
    "for i,length in enumerate(lengths):\n",
    "    if length not in bins:\n",
    "        bins[length] = []\n",
    "    bins[length].append(i)\n",
    "    \n",
    "if (bins == {}):\n",
    "    print(\"Bins dictionary is empty\")\n",
    "else:\n",
    "    print(\"Bins dictionary has been created\")\n",
    "\n",
    "# sampled_texts = []\n",
    "issueList = []\n",
    "\n",
    "# Identifying whether there are issues while comparing the len(indices) with samples_per_bin\n",
    "for length, indices in bins.items():\n",
    "    if (len(indices)<samples_per_bin):\n",
    "        issueList.append(0)\n",
    "    else:\n",
    "        issueList.append(1)\n",
    "    # sampled_indices = random.sample(indices, samples_per_bin)\n",
    "    # for index in sampled_indices:\n",
    "    #     sampled_texts.append(df['title'][index])\n",
    "\n",
    "if 1 in issueList:\n",
    "    print(\"\\nIssue(s) found\")\n",
    "else:\n",
    "    print(\"\\nNo issues\")"
   ]
  },
  {
   "cell_type": "code",
   "execution_count": 20,
   "metadata": {},
   "outputs": [
    {
     "name": "stdout",
     "output_type": "stream",
     "text": [
      "This is the key: 19\n",
      "This is the value: [0, 103, 114, 154, 155, 165, 255, 281, 398, 417, 419, 462, 474, 504, 507, 510, 537, 547, 580, 588, 610, 651, 662, 672, 678, 722, 782, 820, 839, 840, 857, 923, 934, 946, 958, 996, 1004, 1005, 1015, 1110, 1220, 1231, 1255, 1258, 1279, 1319, 1387, 1429, 1430, 1468, 1478, 1483, 1489, 1503, 1515, 1538, 1586, 1607, 1621, 1658, 1745, 1749, 1773, 1829, 1864, 1870, 1878, 1890, 1899, 1982, 2032, 2042, 2143, 2164, 2198, 2239, 2267, 2287, 2288, 2316, 2330, 2357, 2368, 2384, 2464, 2527, 2577, 2623, 2629, 2689, 2696, 2755, 2827, 2842, 2848, 2879, 2880, 2927, 2944, 2965, 2984, 3020, 3046, 3049, 3210, 3240, 3260, 3293, 3296, 3305, 3331, 3334, 3356, 3366, 3384, 3409, 3448, 3475, 3495, 3515, 3519, 3523, 3608, 3726, 3770, 3776, 3785, 3912, 3932, 4005, 4049, 4077, 4099, 4102, 4122, 4219, 4229, 4238, 4254, 4320, 4390, 4395, 4443, 4456, 4577, 4581, 4613, 4708, 4711, 4731, 4768, 4793, 4860, 4868, 4911, 4982, 4991, 5031, 5066, 5077, 5134, 5147, 5158, 5200, 5243, 5250, 5266, 5277, 5286, 5288, 5304, 5305, 5397, 5428, 5460, 5493, 5501, 5504, 5536, 5539, 5550, 5556, 5583, 5644, 5663, 5678, 5681, 5697, 5709, 5712, 5730, 5777, 5816, 5854, 5914, 6001, 6010, 6019, 6057, 6077, 6079, 6112, 6143, 6164, 6194, 6241, 6277, 6295, 6303, 6310, 6316, 6328, 6363, 6379, 6395, 6417, 6429, 6442, 6467, 6482, 6517, 6532, 6541, 6566, 6570, 6575, 6593, 6640, 6666, 6668, 6695, 6697, 6732, 6772, 6780, 6796, 6909, 7007, 7014, 7015, 7050, 7073, 7108, 7110, 7116, 7118, 7122, 7163, 7170, 7189, 7238, 7300, 7341, 7348, 7365, 7403, 7437, 7459, 7460, 7482, 7494, 7504, 7506, 7537, 7563, 7571, 7574, 7622, 7640, 7657, 7664, 7724, 7757, 7810, 7814, 7880, 7891, 7903, 7954, 7998, 8013, 8253, 8284, 8293, 8318, 8340, 8425, 8433, 8452, 8453, 8512, 8523, 8525, 8570, 8576, 8597, 8673, 8710, 8754, 8757, 8761, 8792, 8796, 8798, 8810, 8833, 8844, 8866, 8882, 8957, 8985, 8995, 8998, 8999, 9013, 9045, 9069, 9121, 9125, 9136, 9142, 9147, 9153, 9196, 9198, 9212, 9305, 9317, 9337, 9342, 9380, 9405, 9438, 9467, 9474, 9552, 9651, 9658, 9682, 9714, 9767, 9774, 9796, 9822, 9825, 9836, 9839, 9885, 9906, 9914, 9918, 9971, 10000, 10004, 10017, 10027, 10096, 10109, 10134, 10137, 10167, 10196, 10234, 10261, 10278, 10309, 10318, 10338, 10339, 10374, 10427, 10442, 10459, 10540, 10602, 10620, 10640, 10711, 10776, 10787, 10792, 10831, 10906, 10925, 10933, 10946, 10949, 10956, 10969, 10975, 10993, 11047, 11061, 11085, 11107, 11116, 11133, 11139, 11164, 11235, 11288, 11331, 11336, 11353, 11362, 11458, 11468, 11469, 11516, 11534, 11575, 11626, 11732, 11751, 11777, 11794, 11798, 11849, 11860, 11887, 11914, 12048, 12066, 12122, 12127, 12130, 12162, 12168, 12205, 12213, 12223, 12261, 12277, 12312, 12351, 12354, 12436, 12438, 12462, 12486, 12511, 12580, 12632, 12680, 12688, 12689, 12697, 12711, 12757, 12779, 12796, 12828, 12841, 12901, 12919, 12927, 12956, 12961, 13041, 13044, 13110, 13139, 13150, 13161, 13168, 13189, 13269, 13292, 13300, 13342, 13391, 13436, 13468, 13531, 13562, 13596, 13645, 13675, 13678, 13684, 13693, 13701, 13726, 13735, 13744, 13799, 13877, 13910, 13914, 13964, 13977, 13978, 13997, 14020, 14030, 14044, 14065, 14070, 14090, 14115, 14209, 14264, 14268, 14278, 14324, 14334, 14338, 14433, 14446, 14467, 14468, 14489, 14500, 14503, 14614, 14634, 14635, 14650, 14680, 14702, 14728, 14814, 14832, 14850, 14884, 14906, 14924, 14926, 14952, 15000, 15003, 15037, 15061, 15068, 15085, 15171, 15198, 15212, 15228, 15235, 15239, 15266, 15336, 15400, 15453, 15460, 15554, 15559, 15604, 15638, 15642, 15650, 15662, 15673, 15736, 15787, 15863, 15871, 15898, 15915, 15937, 15961, 16097, 16129, 16134, 16148, 16155, 16165, 16189, 16236, 16238, 16239, 16247, 16300, 16315, 16328, 16333, 16340, 16352, 16362, 16378, 16428, 16436, 16460, 16462, 16468, 16517, 16622, 16649, 16651, 16710, 16733, 16737, 16740, 16742, 16775, 16821, 16844, 16875, 16894, 16924, 17014, 17096, 17135, 17159, 17170, 17183, 17192, 17229, 17264, 17276, 17323, 17386, 17389, 17436, 17454, 17472, 17485, 17502, 17511, 17555, 17617, 17622, 17667, 17718, 17721, 17758, 17812, 17820, 17860, 17862, 17909, 17931, 17963, 17971, 17988, 18002, 18064, 18097, 18123, 18147, 18153, 18167, 18240, 18242, 18271, 18335, 18337, 18374, 18386, 18420, 18441, 18443, 18481, 18530, 18542, 18548, 18565, 18598, 18608, 18627, 18647, 18656, 18676, 18710, 18727, 18734, 18788, 18800, 18810, 18874, 18888, 18893, 18925, 18940, 18961, 18973, 19068, 19085, 19107, 19141, 19162, 19164, 19173, 19187, 19291, 19316, 19320, 19335, 19397, 19485, 19535, 19550, 19599, 19624, 19628, 19634, 19656, 19667, 19678, 19750, 19768, 19776, 19778, 19793, 19803, 19815, 19822, 19843, 19867, 19880, 19886, 19944, 19954, 19961, 19988, 20019, 20076, 20144, 20157, 20159, 20213, 20245, 20294, 20321, 20372, 20390, 20418, 20420, 20523, 20524, 20629, 20631, 20639, 20657, 20659, 20662, 20667, 20677, 20700, 20706, 20765, 20776, 20794, 20798, 20800, 20876, 20877, 20937, 20963, 20968, 20995, 21015, 21039, 21089, 21225, 21297, 21300, 21302, 21348, 21368, 21378, 21416, 21419, 21423, 21438, 21441, 21456, 21474, 21507, 21541, 21563, 21589, 21635, 21636, 21645, 21647, 21654, 21665, 21666, 21702, 21704, 21745, 21755, 21768, 21817, 21828, 21833, 21844, 21904, 21939, 21981, 22029, 22030, 22038, 22050, 22101, 22109, 22193, 22206, 22250, 22258, 22271, 22287, 22327, 22333, 22363, 22464, 22500, 22541, 22556, 22571, 22587, 22628, 22633, 22637, 22645, 22648, 22649, 22655, 22693, 22713, 22753, 22774, 22831, 22834, 22854, 22866, 22942, 22949, 22957, 22989, 23017, 23058, 23079, 23146, 23190, 23203, 23267, 23423, 23469, 23472, 23505, 23511, 23574, 23594, 23606, 23616, 23618, 23630, 23659, 23673, 23692, 23725, 23733, 23759, 23802, 23830, 23834, 23861, 23880, 23888, 24021, 24048, 24057, 24068, 24087, 24115, 24162, 24166, 24194, 24265, 24293, 24375, 24379, 24407, 24421, 24429, 24439, 24469, 24476, 24485, 24491, 24512, 24516, 24543, 24558, 24594, 24595, 24607, 24610, 24626, 24646, 24682, 24773, 24784, 24791, 24836, 24875, 24927, 24957, 24958, 24959, 24985, 25032, 25050, 25057, 25126, 25132, 25295, 25337, 25398, 25412, 25529, 25540, 25545, 25556, 25589, 25594, 25609, 25623, 25634, 25674, 25735, 25736, 25749, 25755, 25809, 25815, 25827, 25842, 25849, 25862, 25886, 25940, 25943, 25967, 25998, 26055, 26060, 26262, 26287, 26309, 26386, 26474, 26531, 26570, 26621, 26626, 26637, 26642, 26668, 26696, 26708, 26751, 26785, 26809, 26816, 26821, 26830, 26878, 26934, 26964, 26991, 26993, 26995, 27017, 27062, 27096, 27137, 27173, 27186, 27194, 27203, 27205, 27208, 27223, 27253, 27322, 27328, 27345, 27375, 27405, 27435, 27498, 27538, 27559, 27562, 27577, 27637, 27706, 27722, 27771, 27790, 27803, 27809, 27826, 27832, 27883, 27907, 27987, 27997, 27998, 28077, 28161, 28181, 28256, 28257, 28272, 28309, 28343, 28372, 28406, 28408, 28432, 28451, 28464, 28529, 28545, 28571, 28703, 28711, 28797, 28811, 28843, 28990, 29026, 29031, 29036, 29053, 29078, 29095, 29097, 29136, 29137, 29151, 29154, 29179, 29208, 29227, 29232, 29242, 29259, 29344, 29406, 29426, 29450, 29464, 29468, 29517, 29533, 29620, 29704, 29739, 29740, 29812, 29846, 29867, 29895, 29916, 29940, 29953, 29957, 29980, 30088, 30091, 30108, 30180, 30201, 30267, 30275, 30299, 30303, 30383, 30407, 30420, 30447, 30526, 30574, 30619, 30659, 30662, 30670, 30679, 30705, 30708, 30743, 30752, 30756, 30759, 30816, 30838, 30839, 30847, 30866, 30892, 30901, 30957, 31016, 31028, 31050, 31092, 31107, 31169, 31201, 31207, 31246, 31248, 31265, 31277, 31329, 31375, 31389, 31399, 31404, 31408, 31454, 31461, 31472, 31496, 31505, 31515, 31524, 31550, 31583, 31600, 31604, 31605, 31611, 31621, 31632, 31681, 31685, 31690, 31692, 31724, 31726, 31749, 31778, 31783, 31784, 31785, 31787, 31794, 31830, 31836, 31887, 31964, 32012, 32023, 32025, 32063, 32080, 32151, 32183, 32209, 32217, 32219, 32286, 32318, 32353, 32462, 32463, 32506, 32525, 32628, 32657, 32693, 32719, 32728, 32734, 32793, 32798, 32821, 32898, 32901, 32909, 32928, 32949, 33041, 33044, 33064, 33071, 33088, 33134, 33152, 33170, 33230, 33244, 33254, 33255, 33257, 33262, 33271, 33300, 33314, 33325, 33351, 33359, 33447, 33484, 33513, 33559, 33566, 33624, 33645, 33703, 33716, 33728, 33793, 33805, 33829, 33890, 33908, 33931, 33939, 34012, 34063, 34101, 34118, 34161, 34201, 34218, 34267, 34285, 34288, 34292, 34296, 34297, 34349, 34358, 34366, 34378, 34381, 34400, 34429, 34453, 34456, 34480, 34498, 34524, 34531, 34533, 34577, 34591, 34595, 34596, 34603, 34634, 34667, 34719, 34736, 34754, 34768, 34773, 34845, 34854, 34899, 34903, 34909, 34972, 35019, 35040, 35052, 35108, 35114, 35138, 35152, 35193, 35195, 35200, 35201, 35214, 35245, 35274, 35278, 35339, 35356, 35360, 35375, 35380, 35404, 35416, 35417, 35453, 35509, 35514, 35527, 35529, 35562, 35611, 35633, 35656, 35664, 35788, 35825, 35829, 35835, 35862, 35865, 35896, 35905, 35910, 35983, 35986, 36016, 36019, 36031, 36065, 36191, 36197, 36201, 36208, 36214, 36263, 36323, 36324, 36349, 36382, 36422, 36516, 36530, 36580, 36595, 36616, 36654, 36680, 36701, 36706, 36725, 36727, 36752, 36760, 36762, 36782, 36793, 36797, 36874, 36889, 36927, 36938, 36942, 36979, 37070, 37080, 37116, 37132, 37134, 37192, 37205, 37251, 37261, 37262, 37302, 37307, 37372, 37373, 37415, 37422, 37448, 37468, 37484, 37496, 37502, 37511, 37513, 37551, 37627, 37632, 37640, 37690, 37751, 37763, 37776, 37883, 37896, 37935, 37940, 37942, 37980, 37996, 38015, 38023, 38042, 38066, 38075, 38099, 38117, 38140, 38147, 38157, 38179, 38213, 38218, 38223, 38237, 38294, 38338, 38368, 38389, 38445, 38598, 38600, 38621, 38672, 38680, 38693, 38709, 38784, 38832, 38855, 38857, 38865, 38878, 38916, 38917, 38968, 38974, 38980, 39007, 39009, 39030, 39032, 39072, 39092, 39114, 39137, 39142, 39147, 39155, 39286, 39312, 39327, 39346, 39348, 39352, 39385, 39387, 39444, 39477, 39519, 39524, 39528, 39545, 39631, 39663, 39668, 39699, 39741, 39763, 39793, 39846, 39851, 39940, 39943, 39969, 39994, 39995, 39996, 40010, 40028, 40062, 40081, 40153, 40185, 40219, 40233, 40249, 40269, 40279, 40296, 40307, 40376, 40377, 40402, 40448, 40473, 40479, 40499, 40528, 40575, 40611, 40674, 40680, 40682, 40711, 40722, 40823, 40960, 40997, 41033, 41090, 41101, 41185, 41230, 41245, 41256, 41259, 41275, 41302, 41325, 41361, 41372, 41404, 41413, 41428, 41487, 41513, 41536, 41541, 41569, 41574, 41577, 41578, 41654, 41720, 41732, 41741, 41768, 41782, 41798, 41809, 41811, 41823, 41831, 41863, 41897, 41916, 41939, 41946, 41954, 41960, 41993, 42047, 42079, 42103, 42112, 42148, 42170, 42172, 42180, 42192, 42213, 42238, 42240, 42245, 42247, 42327, 42352, 42410, 42418, 42463, 42476, 42504, 42583, 42619, 42624, 42634, 42661, 42685, 42721, 42723, 42767, 42795, 42798, 42816, 42834, 42863, 42889, 42923, 42936, 42941, 42964, 43013, 43032, 43035, 43076, 43114, 43139, 43179, 43241, 43247, 43272, 43284, 43286, 43294, 43331, 43376, 43447, 43452, 43512, 43607, 43650, 43654, 43660, 43664, 43713, 43735, 43736, 43758, 43775, 43786, 43788, 43793, 43794, 43876, 43900, 43935, 43965, 43997, 44004, 44013, 44085, 44090, 44153, 44169, 44182, 44186, 44204, 44290, 44306, 44319, 44337, 44345, 44353, 44367, 44391, 44395, 44403, 44424, 44441, 44488, 44495, 44521, 44559, 44571, 44595, 44602, 44660, 44675, 44703, 44737, 44750, 44766, 44816, 44855, 44893]\n"
     ]
    }
   ],
   "source": [
    "key = None\n",
    "valList = []\n",
    "\n",
    "for i,j in bins.items():\n",
    "    key = i\n",
    "    valList = j\n",
    "    print(f\"This is the key: {key}\")\n",
    "    print(f\"This is the value: {valList}\")\n",
    "    break"
   ]
  },
  {
   "cell_type": "code",
   "execution_count": 21,
   "metadata": {},
   "outputs": [
    {
     "data": {
      "text/plain": [
       "1000"
      ]
     },
     "execution_count": 21,
     "metadata": {},
     "output_type": "execute_result"
    }
   ],
   "source": [
    "sampleList = random.sample(valList, samples_per_bin)\n",
    "len(sampleList)"
   ]
  },
  {
   "cell_type": "code",
   "execution_count": 22,
   "metadata": {},
   "outputs": [
    {
     "data": {
      "text/plain": [
       "54"
      ]
     },
     "execution_count": 22,
     "metadata": {},
     "output_type": "execute_result"
    }
   ],
   "source": [
    "lenList = []\n",
    "\n",
    "for i,j in bins.items():\n",
    "    lenList.append((len(j)))\n",
    "\n",
    "len(lenList)"
   ]
  },
  {
   "cell_type": "code",
   "execution_count": 23,
   "metadata": {},
   "outputs": [
    {
     "data": {
      "image/png": "[encoded data removed]",
      "text/plain": [
       "<Figure size 640x480 with 1 Axes>"
      ]
     },
     "metadata": {},
     "output_type": "display_data"
    }
   ],
   "source": [
    "plt.hist(lenList, bins=50)\n",
    "plt.xlabel('Indices length')\n",
    "plt.ylabel('Count')\n",
    "plt.show()"
   ]
  },
  {
   "attachments": {},
   "cell_type": "markdown",
   "metadata": {},
   "source": [
    "As we can see that there are many differences in the length of indices, we prefer to use random.choices() instead of random.sample() when the samples_per_bin is greater than the length of indices."
   ]
  },
  {
   "cell_type": "code",
   "execution_count": 24,
   "metadata": {},
   "outputs": [],
   "source": [
    "sampled_texts = []\n",
    "# samples_per_bin = 1000\n",
    "\n",
    "for length, indices in bins.items():\n",
    "    if len(indices) >= samples_per_bin:\n",
    "        sampled_indices = random.sample(indices, samples_per_bin)\n",
    "    else:\n",
    "        sampled_indices = random.choices(indices, k=samples_per_bin)\n",
    "    for i in sampled_indices:\n",
    "        sampled_texts.append(df['title'][i])"
   ]
  },
  {
   "cell_type": "code",
   "execution_count": 25,
   "metadata": {},
   "outputs": [
    {
     "name": "stdout",
     "output_type": "stream",
     "text": [
      " Bannon Takes His ‘Weapons’ At Breitbart; Smears ‘Quran Kissing’ McMaster In Scathing Hit Piece\n",
      "True\n",
      " Bannon Takes His ‘Weapons’ At Breitbart; Smears ‘Quran Kissing’ McMaster In Scathing Hit Piece\n"
     ]
    }
   ],
   "source": [
    "test = sampled_texts[0]\n",
    "print(test)\n",
    "for i in df['title']:\n",
    "    if test == i:\n",
    "        print(True)\n",
    "        print(i)\n"
   ]
  },
  {
   "cell_type": "code",
   "execution_count": 26,
   "metadata": {},
   "outputs": [
    {
     "name": "stdout",
     "output_type": "stream",
     "text": [
      "False\n"
     ]
    }
   ],
   "source": [
    "if test in df['title']:\n",
    "    print(True)\n",
    "else:\n",
    "    print(False)"
   ]
  },
  {
   "cell_type": "code",
   "execution_count": 27,
   "metadata": {},
   "outputs": [
    {
     "data": {
      "text/plain": [
       "54000"
      ]
     },
     "execution_count": 27,
     "metadata": {},
     "output_type": "execute_result"
    }
   ],
   "source": [
    "count = 0\n",
    "for text in sampled_texts:\n",
    "    for i in df['title']:\n",
    "        if text == i:\n",
    "            count += 1\n",
    "            break\n",
    "\n",
    "count"
   ]
  },
  {
   "cell_type": "code",
   "execution_count": 28,
   "metadata": {},
   "outputs": [],
   "source": [
    "mulList = []\n",
    "for i in sampled_texts:\n",
    "    if sampled_texts.count(i) > 1:\n",
    "        if i not in mulList:\n",
    "            mulList.append(i)"
   ]
  },
  {
   "cell_type": "code",
   "execution_count": 29,
   "metadata": {},
   "outputs": [
    {
     "data": {
      "text/plain": [
       "3863"
      ]
     },
     "execution_count": 29,
     "metadata": {},
     "output_type": "execute_result"
    }
   ],
   "source": [
    "len(mulList)"
   ]
  },
  {
   "cell_type": "code",
   "execution_count": 30,
   "metadata": {},
   "outputs": [
    {
     "data": {
      "text/plain": [
       "44898"
      ]
     },
     "execution_count": 30,
     "metadata": {},
     "output_type": "execute_result"
    }
   ],
   "source": [
    "dfTitle = []\n",
    "for i in df['title']:\n",
    "    dfTitle.append(i)\n",
    "\n",
    "len(dfTitle)"
   ]
  },
  {
   "cell_type": "code",
   "execution_count": 31,
   "metadata": {},
   "outputs": [
    {
     "data": {
      "text/plain": [
       "33100"
      ]
     },
     "execution_count": 31,
     "metadata": {},
     "output_type": "execute_result"
    }
   ],
   "source": [
    "sngList = []\n",
    "totalMultipleList = []\n",
    "for i in dfTitle:\n",
    "    if dfTitle.count(i) == 1:\n",
    "        sngList.append(i)\n",
    "    else:\n",
    "        totalMultipleList.append(i)\n",
    "\n",
    "len(sngList)"
   ]
  },
  {
   "cell_type": "code",
   "execution_count": 32,
   "metadata": {},
   "outputs": [
    {
     "data": {
      "text/plain": [
       "11798"
      ]
     },
     "execution_count": 32,
     "metadata": {},
     "output_type": "execute_result"
    }
   ],
   "source": [
    "len(totalMultipleList)"
   ]
  },
  {
   "cell_type": "code",
   "execution_count": 33,
   "metadata": {},
   "outputs": [],
   "source": [
    "titles = []\n",
    "for i in dfTitle:\n",
    "    if i not in titles:\n",
    "        titles.append(i)"
   ]
  },
  {
   "cell_type": "code",
   "execution_count": 34,
   "metadata": {},
   "outputs": [
    {
     "data": {
      "text/plain": [
       "38729"
      ]
     },
     "execution_count": 34,
     "metadata": {},
     "output_type": "execute_result"
    }
   ],
   "source": [
    "len(titles)"
   ]
  },
  {
   "attachments": {},
   "cell_type": "markdown",
   "metadata": {},
   "source": [
    "Now we can start using \"titles\" for the total titles"
   ]
  },
  {
   "cell_type": "code",
   "execution_count": 35,
   "metadata": {},
   "outputs": [],
   "source": [
    "newList = []\n",
    "\n",
    "for i in sampled_texts:\n",
    "    if i in titles:\n",
    "        if i not in newList:\n",
    "            newList.append(i)"
   ]
  },
  {
   "cell_type": "code",
   "execution_count": 36,
   "metadata": {},
   "outputs": [
    {
     "name": "stdout",
     "output_type": "stream",
     "text": [
      "There are values that are not unique in sampled texts\n"
     ]
    }
   ],
   "source": [
    "if len(newList) == len(sampled_texts):\n",
    "    print(\"All unique values in sampled texts\")\n",
    "else:\n",
    "    print(\"There are values that are not unique in sampled texts\")"
   ]
  },
  {
   "cell_type": "code",
   "execution_count": null,
   "metadata": {},
   "outputs": [],
   "source": []
  }
 ],
 "metadata": {
  "kernelspec": {
   "display_name": "Python 3 (ipykernel)",
   "language": "python",
   "name": "python3"
  },
  "language_info": {
   "codemirror_mode": {
    "name": "ipython",
    "version": 3
   },
   "file_extension": ".py",
   "mimetype": "text/x-python",
   "name": "python",
   "nbconvert_exporter": "python",
   "pygments_lexer": "ipython3",
   "version": "3.11.0"
  }
 },
 "nbformat": 4,
 "nbformat_minor": 2
}
